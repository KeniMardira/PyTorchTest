{
 "cells": [
  {
   "cell_type": "markdown",
   "metadata": {},
   "source": [
    "# Import Libraries"
   ]
  },
  {
   "cell_type": "code",
   "execution_count": 2,
   "metadata": {},
   "outputs": [],
   "source": [
    "import torch # standard basic library for pytorch\n",
    "import torch.autograd # need Variable class\n",
    "import torch.nn as nn # need the basic neural net module\n",
    "import torch.nn.functional as F # imported for the conv1d function\n",
    "\n",
    "import torch.nn.parameter as Parameter"
   ]
  },
  {
   "cell_type": "markdown",
   "metadata": {},
   "source": [
    "# Normal Convolution"
   ]
  },
  {
   "cell_type": "code",
   "execution_count": 3,
   "metadata": {},
   "outputs": [],
   "source": [
    "# convFilter = torch.FloatTensor([8,2]) # use [8,2] for test kernel\n",
    "# convFilter = torch.unsqueeze(convFilter,0) # unsqueeze twice to make filter a 3 dimensional 1x1x2 filter\n",
    "# convFilter = torch.unsqueeze(convFilter,0)\n",
    "# convInput = torch.unsqueeze(torch.autograd.Variable(torch.FloatTensor([3,7,6,4])),0) # use [3,7,6,4] as test input\n",
    "# convInput = torch.unsqueeze(convInput,0) #unsqueeze twice to make input 3D 1x1x4 for the Conv1D class\n",
    "# print(convInput)\n",
    "\n",
    "\n",
    "# conv = torch.nn.Conv1d(1,1,2,padding = 0, bias = False) # set bias to false for now since no learning is required yet\n",
    "# conv.weight = torch.nn.Parameter(convFilter) # set weight of conv filter to be what was specified\n",
    "# print(conv.weight)\n",
    "\n",
    "# convOutput = conv(convInput) # convolve input with filter --> this should give non-causal convolution\n",
    "# print(convOutput)"
   ]
  },
  {
   "cell_type": "markdown",
   "metadata": {},
   "source": [
    "# Causal Convolution"
   ]
  },
  {
   "cell_type": "code",
   "execution_count": 4,
   "metadata": {},
   "outputs": [],
   "source": [
    "class CausalConv(torch.nn.Conv1d): # a class for causal convolution exclusively\n",
    "    def __init__(self,in_channels, out_channels, kernel_size, stride=1, padding=0, dilation=1, groups=1, bias=True):\n",
    "        super(CausalConv,self).__init__(in_channels, out_channels, kernel_size, stride = stride, padding = padding, dilation = dilation, groups = groups, bias = bias) # initialise with Conv1d init variables\n",
    "        self.causality_padding = kernel_size - 1 # padding size depends on kernel size; output at t depend on input t-n...input t\n",
    "        \n",
    "    def forward(self, inputs):\n",
    "        inputs = F.pad(inputs, (self.causality_padding,0,0,0))\n",
    "        return F.conv1d(inputs, self.weight)"
   ]
  },
  {
   "cell_type": "markdown",
   "metadata": {},
   "source": [
    "# Test for Causal Convolution"
   ]
  },
  {
   "cell_type": "code",
   "execution_count": 5,
   "metadata": {},
   "outputs": [],
   "source": [
    "# causalConvInput = torch.ones(1,2,5)\n",
    "# print(causalConvInput)\n",
    "# causal_conv = CausalConv(2,2,3)\n",
    "# causal_conv_output = causal_conv(causalConvInput)\n",
    "\n",
    "# print(causal_conv_output)"
   ]
  },
  {
   "cell_type": "markdown",
   "metadata": {},
   "source": [
    "# 1x1 Convolution"
   ]
  },
  {
   "cell_type": "code",
   "execution_count": 6,
   "metadata": {},
   "outputs": [],
   "source": [
    "class OneConv(torch.nn.Conv1d):\n",
    "    def __init__(self, in_channels, out_channels, kernel_size = 1, stride = 1, padding = 0, dilation = 1, groups = 1, bias = True):\n",
    "        super(OneConv, self).__init__(in_channels, out_channels, kernel_size = kernel_size, stride = stride, padding = padding, dilation = dilation, groups = groups, bias = bias)\n",
    "        \n",
    "    def forward(self, inputs):\n",
    "        return super(OneConv,self).forward(inputs)"
   ]
  },
  {
   "cell_type": "markdown",
   "metadata": {},
   "source": [
    "# 1x1 Convolution Testing"
   ]
  },
  {
   "cell_type": "code",
   "execution_count": 7,
   "metadata": {},
   "outputs": [],
   "source": [
    "# oneInput = torch.autograd.Variable(torch.ones(1,1,5))\n",
    "# print(oneInput)\n",
    "# oneConv = OneConv(1,1)\n",
    "# oneOutput = oneConv(oneInput)\n",
    "# print(oneOutput)"
   ]
  },
  {
   "cell_type": "markdown",
   "metadata": {},
   "source": [
    "# Wavenet"
   ]
  },
  {
   "cell_type": "code",
   "execution_count": 63,
   "metadata": {},
   "outputs": [],
   "source": [
    "class WaveNet(nn.Module):\n",
    "    def __init__(self, dilation, causalKernel, dilationStack):\n",
    "        super(WaveNet, self).__init__()\n",
    "        self.dilations = [2**d for d in range(dilation)] * dilationStack\n",
    "        self.causalConv = []\n",
    "        self.oneConv = OneConv(1,1)\n",
    "        self.output = []\n",
    "        for i in range(dilation*dilationStack):\n",
    "            self.causalConv.append(CausalConv(1,1,causalKernel,dilation = self.dilations[i]))\n",
    "        \n",
    "    def forward(self, inputs):\n",
    "        inputs = torch.autograd.Variable(inputs)\n",
    "        for i in range(len(self.causalConv)):\n",
    "            residualInput = inputs # store inputs for residual addition at the end\n",
    "            inputs = self.causalConv[i](inputs) # causal convolution with dilation varied\n",
    "            inputs = self.gated_activation_unit(inputs) # gated activation unit, product of tanh and sigmoid\n",
    "            inputs = self.oneConv(inputs) # a 1x1 convolution \n",
    "            self.output.append(inputs) # store output of 1x1 convolution for skip connections\n",
    "#             print(\"output = \\n---\", self.output[i], \"---\\n residual = \",residualInput)\n",
    "            inputs = self.output[i] + residualInput # add stored output with residual input at the start\n",
    "        return self.skip_connections(self.output)\n",
    "    \n",
    "    def gated_activation_unit(self,inputs):\n",
    "        return torch.tanh(inputs) * torch.sigmoid(inputs)\n",
    "    \n",
    "    def skip_connections(self,x):\n",
    "        return (self.oneConv(F.relu(self.oneConv(F.relu(sum(x)))))) # avoid softmax here, use cross entropy function with its own softmax later on"
   ]
  },
  {
   "cell_type": "code",
   "execution_count": 67,
   "metadata": {},
   "outputs": [
    {
     "data": {
      "text/plain": [
       "Variable containing:\n",
       "( 0  ,.,.) = \n",
       "  3.9350  2.5313  3.8187  ...   3.3941  2.9385  3.3353\n",
       "[torch.FloatTensor of size 1x1x5000]"
      ]
     },
     "execution_count": 67,
     "metadata": {},
     "output_type": "execute_result"
    }
   ],
   "source": [
    "wNet = WaveNet(10,2,1)\n",
    "# print(len(wNet.causalConv))\n",
    "wNet(torch.randn(1,1,5000))"
   ]
  },
  {
   "cell_type": "code",
   "execution_count": null,
   "metadata": {
    "collapsed": true
   },
   "outputs": [],
   "source": []
  }
 ],
 "metadata": {
  "kernelspec": {
   "display_name": "Python 3",
   "language": "python",
   "name": "python3"
  },
  "language_info": {
   "codemirror_mode": {
    "name": "ipython",
    "version": 3
   },
   "file_extension": ".py",
   "mimetype": "text/x-python",
   "name": "python",
   "nbconvert_exporter": "python",
   "pygments_lexer": "ipython3",
   "version": "3.6.3"
  }
 },
 "nbformat": 4,
 "nbformat_minor": 2
}
