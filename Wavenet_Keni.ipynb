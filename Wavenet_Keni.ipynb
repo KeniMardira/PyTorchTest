{
 "cells": [
  {
   "cell_type": "markdown",
   "metadata": {},
   "source": [
    "# Import Libraries"
   ]
  },
  {
   "cell_type": "code",
   "execution_count": 46,
   "metadata": {},
   "outputs": [],
   "source": [
    "import torch # standard basic library for pytorch\n",
    "import torch.autograd # need Variable class\n",
    "import torch.nn as nn # need the basic neural net module\n",
    "import torch.nn.functional as F # imported for the conv1d function\n",
    "\n",
    "import torch.nn.parameter as Parameter"
   ]
  },
  {
   "cell_type": "markdown",
   "metadata": {},
   "source": [
    "# Causal Convolution"
   ]
  },
  {
   "cell_type": "code",
   "execution_count": 96,
   "metadata": {},
   "outputs": [
    {
     "name": "stdout",
     "output_type": "stream",
     "text": [
      "Variable containing:\n",
      "(0 ,.,.) = \n",
      "  3  7  6  4\n",
      "[torch.FloatTensor of size 1x1x4]\n",
      "\n",
      "Parameter containing:\n",
      "(0 ,.,.) = \n",
      "  8  2\n",
      "[torch.FloatTensor of size 1x1x2]\n",
      "\n",
      "Variable containing:\n",
      "(0 ,.,.) = \n",
      "  37.3188  67.3188  55.3188\n",
      "[torch.FloatTensor of size 1x1x3]\n",
      "\n"
     ]
    }
   ],
   "source": [
    "convFilter = torch.FloatTensor([8.0,2.0])\n",
    "convFilter = torch.unsqueeze(convFilter,0)\n",
    "convFilter = torch.unsqueeze(convFilter,0)\n",
    "convInput = torch.unsqueeze(torch.autograd.Variable(torch.FloatTensor([3.0,7.0,6.0,4.0])),0)\n",
    "convInput = torch.unsqueeze(convInput,0)\n",
    "print(convInput)\n",
    "\n",
    "causal_conv = torch.nn.Conv1d(1,1,2, stride = 1)\n",
    "causal_conv.weight = torch.nn.Parameter(convFilter)\n",
    "print(causal_conv.weight)\n",
    "\n",
    "convOutput = causal_conv(convInput)\n",
    "print(convOutput)"
   ]
  },
  {
   "cell_type": "code",
   "execution_count": null,
   "metadata": {
    "collapsed": true
   },
   "outputs": [],
   "source": []
  },
  {
   "cell_type": "code",
   "execution_count": null,
   "metadata": {
    "collapsed": true
   },
   "outputs": [],
   "source": []
  }
 ],
 "metadata": {
  "kernelspec": {
   "display_name": "Python 3",
   "language": "python",
   "name": "python3"
  },
  "language_info": {
   "codemirror_mode": {
    "name": "ipython",
    "version": 3
   },
   "file_extension": ".py",
   "mimetype": "text/x-python",
   "name": "python",
   "nbconvert_exporter": "python",
   "pygments_lexer": "ipython3",
   "version": "3.6.3"
  }
 },
 "nbformat": 4,
 "nbformat_minor": 2
}
