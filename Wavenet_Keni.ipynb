{
 "cells": [
  {
   "cell_type": "markdown",
   "metadata": {},
   "source": [
    "# Import Libraries"
   ]
  },
  {
   "cell_type": "code",
   "execution_count": 5,
   "metadata": {},
   "outputs": [],
   "source": [
    "import torch # standard basic library for pytorch\n",
    "import torch.autograd # need Variable class\n",
    "import torch.nn as nn # need the basic neural net module\n",
    "import torch.nn.functional as F # imported for the conv1d function\n",
    "\n",
    "import torch.nn.parameter as Parameter"
   ]
  },
  {
   "cell_type": "markdown",
   "metadata": {},
   "source": [
    "# Normal Convolution"
   ]
  },
  {
   "cell_type": "code",
   "execution_count": 6,
   "metadata": {},
   "outputs": [
    {
     "name": "stdout",
     "output_type": "stream",
     "text": [
      "Variable containing:\n",
      "(0 ,.,.) = \n",
      "  3  7  6  4\n",
      "[torch.FloatTensor of size 1x1x4]\n",
      "\n",
      "Parameter containing:\n",
      "(0 ,.,.) = \n",
      "  8  2\n",
      "[torch.FloatTensor of size 1x1x2]\n",
      "\n",
      "Variable containing:\n",
      "(0 ,.,.) = \n",
      "  38  68  56\n",
      "[torch.FloatTensor of size 1x1x3]\n",
      "\n"
     ]
    }
   ],
   "source": [
    "convFilter = torch.FloatTensor([8,2]) # use [8,2] for test kernel\n",
    "convFilter = torch.unsqueeze(convFilter,0) # unsqueeze twice to make filter a 3 dimensional 1x1x2 filter\n",
    "convFilter = torch.unsqueeze(convFilter,0)\n",
    "convInput = torch.unsqueeze(torch.autograd.Variable(torch.FloatTensor([3,7,6,4])),0) # use [3,7,6,4] as test input\n",
    "convInput = torch.unsqueeze(convInput,0) #unsqueeze twice to make input 3D 1x1x4 for the Conv1D class\n",
    "print(convInput)\n",
    "\n",
    "\n",
    "conv = torch.nn.Conv1d(1,1,2,padding = 0, bias = False) # set bias to false for now since no learning is required yet\n",
    "conv.weight = torch.nn.Parameter(convFilter) # set weight of conv filter to be what was specified\n",
    "print(conv.weight)\n",
    "\n",
    "convOutput = conv(convInput) # convolve input with filter --> this should give non-causal convolution\n",
    "print(convOutput)"
   ]
  },
  {
   "cell_type": "markdown",
   "metadata": {},
   "source": [
    "# Causal Convolution"
   ]
  },
  {
   "cell_type": "code",
   "execution_count": 13,
   "metadata": {},
   "outputs": [],
   "source": [
    "class CausalConv(torch.nn.Conv1d): # a class for causal convolution exclusively\n",
    "    def __init__(self,in_channels, out_channels, kernel_size, stride=1, padding=0, dilation=1, groups=1, bias=True):\n",
    "        super(CausalConv,self).__init__(in_channels, out_channels, kernel_size, stride = stride, padding = padding, dilation = dilation, groups = groups, bias = bias) # initialise with Conv1d init variables\n",
    "        self.causality_padding = kernel_size - 1 # padding size depends on kernel size; output at t depend on input t-n...input t\n",
    "        \n",
    "    def forward(self, inputs):\n",
    "        inputs = F.pad(inputs, (self.causality_padding,0,0,0))\n",
    "        return F.conv1d(inputs, self.weight)"
   ]
  },
  {
   "cell_type": "markdown",
   "metadata": {},
   "source": [
    "# Test for Causal Convolution"
   ]
  },
  {
   "cell_type": "code",
   "execution_count": 14,
   "metadata": {},
   "outputs": [
    {
     "name": "stdout",
     "output_type": "stream",
     "text": [
      "\n",
      "(0 ,.,.) = \n",
      "  1  1  1  1  1\n",
      "  1  1  1  1  1\n",
      "[torch.FloatTensor of size 1x2x5]\n",
      "\n",
      "Variable containing:\n",
      "(0 ,.,.) = \n",
      "  0.0160 -0.4389 -0.2531 -0.2531 -0.2531\n",
      " -0.0249 -0.5494 -0.8015 -0.8015 -0.8015\n",
      "[torch.FloatTensor of size 1x2x5]\n",
      "\n"
     ]
    }
   ],
   "source": [
    "causalConvInput = torch.ones(1,2,5)\n",
    "print(causalConvInput)\n",
    "# causalConvFilter = torch.ones(2,1,3)\n",
    "# print(causalConvFilter)\n",
    "causal_conv = CausalConv(2,2,3)\n",
    "# causal_conv.weight = torch.nn.Parameter(causalConvFilter)\n",
    "causal_conv_output = causal_conv(causalConvInput)\n",
    "\n",
    "print(causal_conv_output)"
   ]
  },
  {
   "cell_type": "markdown",
   "metadata": {},
   "source": [
    "# 1x1 Convolution"
   ]
  },
  {
   "cell_type": "code",
   "execution_count": 17,
   "metadata": {},
   "outputs": [],
   "source": [
    "class OneConv(torch.nn.Conv1d):\n",
    "    def __init__(self, in_channels, out_channels, kernel_size = 1, stride = 1, padding = 0, dilation = 1, groups = 1, bias = True):\n",
    "        super(OneConv, self).__init__(in_channels, out_channels, kernel_size = kernel_size, stride = stride, padding = padding, dilation = dilation, groups = groups, bias = bias)\n",
    "        \n",
    "    def forward(self, inputs):\n",
    "        return super(OneConv,self).forward(inputs)"
   ]
  },
  {
   "cell_type": "markdown",
   "metadata": {},
   "source": [
    "# 1x1 Convolution Testing"
   ]
  },
  {
   "cell_type": "code",
   "execution_count": 33,
   "metadata": {},
   "outputs": [
    {
     "name": "stdout",
     "output_type": "stream",
     "text": [
      "Variable containing:\n",
      "(0 ,.,.) = \n",
      "  1  1  1  1  1\n",
      "\n",
      "(1 ,.,.) = \n",
      "  1  1  1  1  1\n",
      "[torch.FloatTensor of size 2x1x5]\n",
      "\n"
     ]
    }
   ],
   "source": [
    "oneInput = torch.autograd.Variable(torch.ones(2,1,5))\n",
    "print(oneInput)\n",
    "oneConv = OneConv(1,1)\n",
    "oneOutput = oneConv(oneInput)"
   ]
  },
  {
   "cell_type": "markdown",
   "metadata": {},
   "source": [
    "# Wavenet"
   ]
  },
  {
   "cell_type": "code",
   "execution_count": 10,
   "metadata": {},
   "outputs": [],
   "source": [
    "class WaveNet(nn.Module):\n",
    "    def __init__(self):\n",
    "        super(WaveNet, self).__init__()\n",
    "        \n",
    "    def forward(self, inputs):\n",
    "        return inputs"
   ]
  },
  {
   "cell_type": "code",
   "execution_count": null,
   "metadata": {
    "collapsed": true
   },
   "outputs": [],
   "source": []
  }
 ],
 "metadata": {
  "kernelspec": {
   "display_name": "Python 3",
   "language": "python",
   "name": "python3"
  },
  "language_info": {
   "codemirror_mode": {
    "name": "ipython",
    "version": 3
   },
   "file_extension": ".py",
   "mimetype": "text/x-python",
   "name": "python",
   "nbconvert_exporter": "python",
   "pygments_lexer": "ipython3",
   "version": "3.6.3"
  }
 },
 "nbformat": 4,
 "nbformat_minor": 2
}
