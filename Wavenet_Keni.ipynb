{
 "cells": [
  {
   "cell_type": "markdown",
   "metadata": {},
   "source": [
    "# Import Libraries"
   ]
  },
  {
   "cell_type": "code",
   "execution_count": 46,
   "metadata": {},
   "outputs": [],
   "source": [
    "import torch # standard basic library for pytorch\n",
    "import torch.autograd # need Variable class\n",
    "import torch.nn as nn # need the basic neural net module\n",
    "import torch.nn.functional as F # imported for the conv1d function\n",
    "\n",
    "import torch.nn.parameter as Parameter"
   ]
  },
  {
   "cell_type": "markdown",
   "metadata": {},
   "source": [
    "# Normal Convolution"
   ]
  },
  {
   "cell_type": "code",
   "execution_count": 113,
   "metadata": {},
   "outputs": [
    {
     "name": "stdout",
     "output_type": "stream",
     "text": [
      "Variable containing:\n",
      "(0 ,.,.) = \n",
      "  3  7  6  4\n",
      "[torch.FloatTensor of size 1x1x4]\n",
      "\n",
      "Parameter containing:\n",
      "(0 ,.,.) = \n",
      "  8  2\n",
      "[torch.FloatTensor of size 1x1x2]\n",
      "\n",
      "Variable containing:\n",
      "(0 ,.,.) = \n",
      "  38  68  56\n",
      "[torch.FloatTensor of size 1x1x3]\n",
      "\n"
     ]
    }
   ],
   "source": [
    "convFilter = torch.FloatTensor([8.0,2.0]) # use [8,2] for test kernel\n",
    "convFilter = torch.unsqueeze(convFilter,0) # unsqueeze twice to make filter a 3 dimensional 1x1x2 filter\n",
    "convFilter = torch.unsqueeze(convFilter,0)\n",
    "convInput = torch.unsqueeze(torch.autograd.Variable(torch.FloatTensor([3.0,7.0,6.0,4.0])),0) # use [3,7,6,4] as test input\n",
    "convInput = torch.unsqueeze(convInput,0) #unsqueeze twice to make input 3D 1x1x4 for the Conv1D class\n",
    "print(convInput)\n",
    "\n",
    "\n",
    "causal_conv = torch.nn.Conv1d(1,1,2,bias = False) # set bias to false for now since no learning is required yet\n",
    "causal_conv.weight = torch.nn.Parameter(convFilter) # set weight of conv filter to be what was specified\n",
    "print(causal_conv.weight)\n",
    "\n",
    "convOutput = causal_conv(convInput) # convolve input with filter --> this should give non-causal convolution\n",
    "print(convOutput)"
   ]
  },
  {
   "cell_type": "markdown",
   "metadata": {},
   "source": [
    "# Causal Convolution"
   ]
  },
  {
   "cell_type": "code",
   "execution_count": 112,
   "metadata": {},
   "outputs": [],
   "source": [
    "class CausalConv(torch.nn.Conv1d):\n",
    "    def __init__(self,in_channels, out_channels, kernel_size, stride=1, padding=0, dilation=1, groups=1, bias=False):\n",
    "        super(CausalConv,self).__init__()\n",
    "        "
   ]
  }
 ],
 "metadata": {
  "kernelspec": {
   "display_name": "Python 3",
   "language": "python",
   "name": "python3"
  },
  "language_info": {
   "codemirror_mode": {
    "name": "ipython",
    "version": 3
   },
   "file_extension": ".py",
   "mimetype": "text/x-python",
   "name": "python",
   "nbconvert_exporter": "python",
   "pygments_lexer": "ipython3",
   "version": "3.6.3"
  }
 },
 "nbformat": 4,
 "nbformat_minor": 2
}
