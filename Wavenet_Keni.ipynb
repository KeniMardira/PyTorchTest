{
 "cells": [
  {
   "cell_type": "markdown",
   "metadata": {},
   "source": [
    "# Import Libraries"
   ]
  },
  {
   "cell_type": "code",
   "execution_count": 1,
   "metadata": {},
   "outputs": [],
   "source": [
    "import torch # standard basic library for pytorch\n",
    "import torch.autograd # need Variable class\n",
    "import torch.nn as nn # need the basic neural net module\n",
    "import torch.nn.functional as F # imported for the conv1d function\n",
    "import torch.nn.parameter as Parameter\n",
    "\n",
    "import numpy as np\n",
    "import matplotlib.pyplot as plt\n",
    "\n",
    "% matplotlib inline"
   ]
  },
  {
   "cell_type": "markdown",
   "metadata": {},
   "source": [
    "# Normal Convolution"
   ]
  },
  {
   "cell_type": "code",
   "execution_count": 2,
   "metadata": {},
   "outputs": [],
   "source": [
    "# convFilter = torch.FloatTensor([8,2]) # use [8,2] for test kernel\n",
    "# convFilter = torch.unsqueeze(convFilter,0) # unsqueeze twice to make filter a 3 dimensional 1x1x2 filter\n",
    "# convFilter = torch.unsqueeze(convFilter,0)\n",
    "# convInput = torch.unsqueeze(torch.autograd.Variable(torch.FloatTensor([3,7,6,4])),0) # use [3,7,6,4] as test input\n",
    "# convInput = torch.unsqueeze(convInput,0) #unsqueeze twice to make input 3D 1x1x4 for the Conv1D class\n",
    "# print(convInput)\n",
    "\n",
    "\n",
    "# conv = torch.nn.Conv1d(1,1,2,padding = 0, bias = False) # set bias to false for now since no learning is required yet\n",
    "# conv.weight = torch.nn.Parameter(convFilter) # set weight of conv filter to be what was specified\n",
    "# print(conv.weight)\n",
    "\n",
    "# convOutput = conv(convInput) # convolve input with filter --> this should give non-causal convolution\n",
    "# print(convOutput)"
   ]
  },
  {
   "cell_type": "markdown",
   "metadata": {},
   "source": [
    "# Causal Convolution"
   ]
  },
  {
   "cell_type": "code",
   "execution_count": 3,
   "metadata": {},
   "outputs": [],
   "source": [
    "class CausalConv(torch.nn.Conv1d): # a class for causal convolution exclusively\n",
    "    def __init__(self,in_channels, out_channels, kernel_size, stride=1, padding=0, dilation=1, groups=1, bias=True):\n",
    "        super(CausalConv,self).__init__(in_channels, out_channels, kernel_size, stride = stride, padding = padding, dilation = dilation, groups = groups, bias = bias) # initialise with Conv1d init variables\n",
    "        self.causality_padding = kernel_size - 1 # padding size depends on kernel size; output at t depend on input t-n...input t\n",
    "        \n",
    "    def forward(self, inputs):\n",
    "        inputs = F.pad(inputs, (self.causality_padding,0,0,0))\n",
    "        return F.conv1d(inputs, self.weight)"
   ]
  },
  {
   "cell_type": "markdown",
   "metadata": {},
   "source": [
    "# Test for Causal Convolution"
   ]
  },
  {
   "cell_type": "code",
   "execution_count": 4,
   "metadata": {},
   "outputs": [],
   "source": [
    "# causalConvInput = torch.ones(1,2,5)\n",
    "# print(causalConvInput)\n",
    "# causal_conv = CausalConv(2,2,3)\n",
    "# causal_conv_output = causal_conv(causalConvInput)\n",
    "\n",
    "# print(causal_conv_output)"
   ]
  },
  {
   "cell_type": "markdown",
   "metadata": {},
   "source": [
    "# 1x1 Convolution"
   ]
  },
  {
   "cell_type": "code",
   "execution_count": 5,
   "metadata": {},
   "outputs": [],
   "source": [
    "class OneConv(torch.nn.Conv1d):\n",
    "    def __init__(self, in_channels, out_channels, kernel_size = 1, stride = 1, padding = 0, dilation = 1, groups = 1, bias = True):\n",
    "        super(OneConv, self).__init__(in_channels, out_channels, kernel_size = kernel_size, stride = stride, padding = padding, dilation = dilation, groups = groups, bias = bias)\n",
    "        \n",
    "    def forward(self, inputs):\n",
    "        return super(OneConv,self).forward(inputs)"
   ]
  },
  {
   "cell_type": "markdown",
   "metadata": {},
   "source": [
    "# 1x1 Convolution Testing"
   ]
  },
  {
   "cell_type": "code",
   "execution_count": 6,
   "metadata": {},
   "outputs": [],
   "source": [
    "# oneInput = torch.autograd.Variable(torch.ones(1,1,5))\n",
    "# print(oneInput)\n",
    "# oneConv = OneConv(1,1)\n",
    "# oneOutput = oneConv(oneInput)\n",
    "# print(oneOutput)"
   ]
  },
  {
   "cell_type": "markdown",
   "metadata": {},
   "source": [
    "# Wavenet"
   ]
  },
  {
   "cell_type": "code",
   "execution_count": 7,
   "metadata": {},
   "outputs": [],
   "source": [
    "class WaveNet(nn.Module):\n",
    "    def __init__(self, dilation, causalKernel, dilationStack):\n",
    "        super(WaveNet, self).__init__()\n",
    "        self.dilations = [2**d for d in range(dilation)] * dilationStack\n",
    "        self.causalConv = []\n",
    "        self.oneConv = OneConv(1,1)\n",
    "        self.output = []\n",
    "        for i in range(dilation*dilationStack):\n",
    "            self.causalConv.append(CausalConv(1,1,causalKernel,dilation = self.dilations[i]))\n",
    "        \n",
    "    def forward(self, inputs):\n",
    "        inputs = torch.autograd.Variable(inputs)\n",
    "        for i in range(len(self.causalConv)):\n",
    "            residualInput = inputs # store inputs for residual addition at the end\n",
    "            inputs = self.causalConv[i](inputs) # causal convolution with dilation varied\n",
    "            inputs = self.gated_activation_unit(inputs) # gated activation unit, product of tanh and sigmoid\n",
    "            inputs = self.oneConv(inputs) # a 1x1 convolution \n",
    "            self.output.append(inputs) # store output of 1x1 convolution for skip connections\n",
    "#             print(\"output = \\n---\", self.output[i], \"---\\n residual = \",residualInput)\n",
    "            inputs = self.output[i] + residualInput # add stored output with residual input at the start\n",
    "        return self.skip_connections(self.output)\n",
    "    \n",
    "    def gated_activation_unit(self,inputs):\n",
    "        return torch.tanh(inputs) * torch.sigmoid(inputs)\n",
    "    \n",
    "    def skip_connections(self,x):\n",
    "        s = nn.Softmax(0) #added for experimentation\n",
    "        return (self.oneConv(F.relu(self.oneConv(F.relu(sum(x)))))) # avoid softmax here, use cross entropy function with its own softmax later on"
   ]
  },
  {
   "cell_type": "code",
   "execution_count": 8,
   "metadata": {},
   "outputs": [
    {
     "data": {
      "text/plain": [
       "Variable containing:\n",
       "( 0  ,.,.) = \n",
       " -0.1385 -0.1385 -0.1385  ...  -0.1385 -0.1385 -0.1385\n",
       "[torch.FloatTensor of size 1x1x5000]"
      ]
     },
     "execution_count": 8,
     "metadata": {},
     "output_type": "execute_result"
    }
   ],
   "source": [
    "wNet = WaveNet(10,2,6)\n",
    "# print(len(wNet.causalConv))\n",
    "wNet(torch.randn(1,1,5000))"
   ]
  },
  {
   "cell_type": "markdown",
   "metadata": {},
   "source": [
    "# Training"
   ]
  },
  {
   "cell_type": "markdown",
   "metadata": {},
   "source": [
    "## Data generator"
   ]
  },
  {
   "cell_type": "code",
   "execution_count": 9,
   "metadata": {
    "collapsed": true
   },
   "outputs": [],
   "source": [
    "def batch_generator():\n",
    "    while True:\n",
    "        xs = np.linspace(0, np.pi*10, 4000)\n",
    "        ys = np.sin(xs) #+ np.random.rand(4000)*0.2-0.1\n",
    "        ys = ys.astype(np.float32) # default is np.float64\n",
    "        x = torch.from_numpy(ys).view(1,1,-1)\n",
    "#         x = torch.from_numpy(ys[:3999]).view(1,1,-1)\n",
    "#         y = torch.from_numpy(ys[1:4000]).view(1,1,-1)\n",
    "        if (torch.cuda.is_available() and CUDA):\n",
    "            x = x.cuda()\n",
    "            y = y.cuda()\n",
    "            \n",
    "        yield x #, y #Variable(x), Variable(y)\n",
    "\n",
    "g = batch_generator()"
   ]
  },
  {
   "cell_type": "markdown",
   "metadata": {},
   "source": [
    "## Mu Decoder and Encoder"
   ]
  },
  {
   "cell_type": "code",
   "execution_count": 10,
   "metadata": {},
   "outputs": [],
   "source": [
    "# non-linear encoder (quantiser) - reduce the dynamic range of audio signal \n",
    "def mu_encoder(x,mu):\n",
    "    output = torch.sign(x) * ((torch.log1p(1+mu*torch.abs(x)))/(torch.log1p(1+torch.ones(1,1,max(x.size()))*mu)))\n",
    "    return output\n",
    "\n",
    "def mu_decoder(x):\n",
    "    return x\n"
   ]
  },
  {
   "cell_type": "markdown",
   "metadata": {},
   "source": [
    "## Data Plotting"
   ]
  },
  {
   "cell_type": "code",
   "execution_count": 11,
   "metadata": {},
   "outputs": [
    {
     "data": {
      "text/plain": [
       "[<matplotlib.lines.Line2D at 0x11588ddd8>]"
      ]
     },
     "execution_count": 11,
     "metadata": {},
     "output_type": "execute_result"
    },
    {
     "data": {
      "image/png": "[encoded data removed]",
      "text/plain": [
       "<matplotlib.figure.Figure at 0x1155c6e10>"
      ]
     },
     "metadata": {},
     "output_type": "display_data"
    },
    {
     "data": {
      "image/png": "[encoded data removed]",
      "text/plain": [
       "<matplotlib.figure.Figure at 0x11586b828>"
      ]
     },
     "metadata": {},
     "output_type": "display_data"
    }
   ],
   "source": [
    "x = next(g)\n",
    "plt.figure(figsize=[8,6])\n",
    "plt.plot(torch.autograd.Variable(x).cpu().data.numpy()[0][0],'.', ms=3)\n",
    "\n",
    "temp = mu_encoder(x,255)\n",
    "plt.figure(figsize=[8,6]) \n",
    "plt.plot(torch.autograd.Variable(temp).cpu().data.numpy()[0][0],'.', ms=3)\n",
    "\n",
    "# temp = mu_decoder(temp)\n",
    "# plt.figure(figsize=[8,6])\n",
    "# plt.plot(Variable(temp).cpu().data.numpy()[0][0],'.', ms=3)"
   ]
  },
  {
   "cell_type": "code",
   "execution_count": null,
   "metadata": {
    "collapsed": true
   },
   "outputs": [],
   "source": []
  }
 ],
 "metadata": {
  "kernelspec": {
   "display_name": "Python 3",
   "language": "python",
   "name": "python3"
  },
  "language_info": {
   "codemirror_mode": {
    "name": "ipython",
    "version": 3
   },
   "file_extension": ".py",
   "mimetype": "text/x-python",
   "name": "python",
   "nbconvert_exporter": "python",
   "pygments_lexer": "ipython3",
   "version": "3.6.3"
  }
 },
 "nbformat": 4,
 "nbformat_minor": 2
}
