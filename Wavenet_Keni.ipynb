{
 "cells": [
  {
   "cell_type": "markdown",
   "metadata": {},
   "source": [
    "# Import Libraries"
   ]
  },
  {
   "cell_type": "code",
   "execution_count": 16,
   "metadata": {},
   "outputs": [],
   "source": [
    "import torch # standard basic library for pytorch\n",
    "import torch.autograd # need Variable class\n",
    "import torch.nn as nn # need the basic neural net module\n",
    "import torch.nn.functional as F # imported for the conv1d function\n",
    "import torch.nn.parameter as Parameter\n",
    "import torch.optim as optim\n",
    "\n",
    "import numpy as np\n",
    "import matplotlib.pyplot as plt\n",
    "\n",
    "% matplotlib inline"
   ]
  },
  {
   "cell_type": "markdown",
   "metadata": {},
   "source": [
    "# Normal Convolution"
   ]
  },
  {
   "cell_type": "code",
   "execution_count": 2,
   "metadata": {},
   "outputs": [],
   "source": [
    "# convFilter = torch.FloatTensor([8,2]) # use [8,2] for test kernel\n",
    "# convFilter = torch.unsqueeze(convFilter,0) # unsqueeze twice to make filter a 3 dimensional 1x1x2 filter\n",
    "# convFilter = torch.unsqueeze(convFilter,0)\n",
    "# convInput = torch.unsqueeze(torch.autograd.Variable(torch.FloatTensor([3,7,6,4])),0) # use [3,7,6,4] as test input\n",
    "# convInput = torch.unsqueeze(convInput,0) #unsqueeze twice to make input 3D 1x1x4 for the Conv1D class\n",
    "# print(convInput)\n",
    "\n",
    "\n",
    "# conv = torch.nn.Conv1d(1,1,2,padding = 0, bias = False) # set bias to false for now since no learning is required yet\n",
    "# conv.weight = torch.nn.Parameter(convFilter) # set weight of conv filter to be what was specified\n",
    "# print(conv.weight)\n",
    "\n",
    "# convOutput = conv(convInput) # convolve input with filter --> this should give non-causal convolution\n",
    "# print(convOutput)"
   ]
  },
  {
   "cell_type": "markdown",
   "metadata": {},
   "source": [
    "# Causal Convolution"
   ]
  },
  {
   "cell_type": "code",
   "execution_count": 3,
   "metadata": {},
   "outputs": [],
   "source": [
    "class CausalConv(torch.nn.Conv1d): # a class for causal convolution exclusively\n",
    "    def __init__(self,in_channels, out_channels, kernel_size, stride=1, padding=0, dilation=1, groups=1, bias=True):\n",
    "        super(CausalConv,self).__init__(in_channels, out_channels, kernel_size, stride = stride, padding = padding, dilation = dilation, groups = groups, bias = bias) # initialise with Conv1d init variables\n",
    "        self.causality_padding = kernel_size - 1 # padding size depends on kernel size; output at t depend on input t-n...input t\n",
    "        \n",
    "    def forward(self, inputs):\n",
    "        inputs = F.pad(inputs, (self.causality_padding,0,0,0))\n",
    "        return F.conv1d(inputs, self.weight)"
   ]
  },
  {
   "cell_type": "markdown",
   "metadata": {},
   "source": [
    "# Test for Causal Convolution"
   ]
  },
  {
   "cell_type": "code",
   "execution_count": 4,
   "metadata": {},
   "outputs": [],
   "source": [
    "# causalConvInput = torch.ones(1,2,5)\n",
    "# print(causalConvInput)\n",
    "# causal_conv = CausalConv(2,2,3)\n",
    "# causal_conv_output = causal_conv(causalConvInput)\n",
    "\n",
    "# print(causal_conv_output)"
   ]
  },
  {
   "cell_type": "markdown",
   "metadata": {},
   "source": [
    "# 1x1 Convolution"
   ]
  },
  {
   "cell_type": "code",
   "execution_count": 5,
   "metadata": {},
   "outputs": [],
   "source": [
    "class OneConv(torch.nn.Conv1d):\n",
    "    def __init__(self, in_channels, out_channels, kernel_size = 1, stride = 1, padding = 0, dilation = 1, groups = 1, bias = True):\n",
    "        super(OneConv, self).__init__(in_channels, out_channels, kernel_size = kernel_size, stride = stride, padding = padding, dilation = dilation, groups = groups, bias = bias)\n",
    "        \n",
    "    def forward(self, inputs):\n",
    "        return super(OneConv,self).forward(inputs)"
   ]
  },
  {
   "cell_type": "markdown",
   "metadata": {},
   "source": [
    "# 1x1 Convolution Testing"
   ]
  },
  {
   "cell_type": "code",
   "execution_count": 6,
   "metadata": {},
   "outputs": [],
   "source": [
    "# oneInput = torch.autograd.Variable(torch.ones(1,1,5))\n",
    "# print(oneInput)\n",
    "# oneConv = OneConv(1,1)\n",
    "# oneOutput = oneConv(oneInput)\n",
    "# print(oneOutput)"
   ]
  },
  {
   "cell_type": "markdown",
   "metadata": {},
   "source": [
    "# Wavenet"
   ]
  },
  {
   "cell_type": "code",
   "execution_count": 31,
   "metadata": {},
   "outputs": [],
   "source": [
    "class WaveNet(nn.Module):\n",
    "    def __init__(self, dilation, causalKernel, dilationStack):\n",
    "        super(WaveNet, self).__init__()\n",
    "        self.dilations = [2**d for d in range(dilation)] * dilationStack\n",
    "        self.causalConv = []\n",
    "        self.oneConv = OneConv(1,1)\n",
    "        self.output = []\n",
    "        for i in range(dilation*dilationStack):\n",
    "            self.causalConv.append(CausalConv(1,1,causalKernel,dilation = self.dilations[i]))\n",
    "        \n",
    "    def forward(self, inputs):\n",
    "#         inputs = torch.autograd.Variable(inputs)\n",
    "        for i in range(len(self.causalConv)):\n",
    "            residualInput = inputs # store inputs for residual addition at the end\n",
    "            inputs = self.causalConv[i](inputs) # causal convolution with dilation varied\n",
    "            inputs = self.gated_activation_unit(inputs) # gated activation unit, product of tanh and sigmoid\n",
    "            inputs = self.oneConv(inputs) # a 1x1 convolution \n",
    "            self.output.append(inputs) # store output of 1x1 convolution for skip connections\n",
    "#             print(\"output = \\n---\", self.output[i], \"---\\n residual = \",residualInput)\n",
    "            inputs = self.output[i] + residualInput # add stored output with residual input at the start\n",
    "        return self.skip_connections(self.output)\n",
    "    \n",
    "    def gated_activation_unit(self,inputs):\n",
    "        return torch.tanh(inputs) * torch.sigmoid(inputs)\n",
    "    \n",
    "    def skip_connections(self,x):\n",
    "        s = nn.Softmax(0) #added for experimentation\n",
    "        return (self.oneConv(F.relu(self.oneConv(F.relu(sum(x)))))) # avoid softmax here, use cross entropy function with its own softmax later on"
   ]
  },
  {
   "cell_type": "markdown",
   "metadata": {},
   "source": [
    "# Training"
   ]
  },
  {
   "cell_type": "markdown",
   "metadata": {},
   "source": [
    "## Data generator"
   ]
  },
  {
   "cell_type": "code",
   "execution_count": 9,
   "metadata": {
    "collapsed": true
   },
   "outputs": [],
   "source": [
    "def batch_generator():\n",
    "    while True:\n",
    "        xs = np.linspace(0, np.pi*10, 4000)\n",
    "        ys = np.sin(xs) #+ np.random.rand(4000)*0.2-0.1\n",
    "        ys = ys.astype(np.float32) # default is np.float64\n",
    "        x = torch.from_numpy(ys).view(1,1,-1)\n",
    "#         x = torch.from_numpy(ys[:3999]).view(1,1,-1)\n",
    "#         y = torch.from_numpy(ys[1:4000]).view(1,1,-1)\n",
    "        if (torch.cuda.is_available() and CUDA):\n",
    "            x = x.cuda()\n",
    "            y = y.cuda()\n",
    "            \n",
    "        yield x #, y #Variable(x), Variable(y)\n",
    "\n",
    "g = batch_generator()"
   ]
  },
  {
   "cell_type": "markdown",
   "metadata": {},
   "source": [
    "## Mu Decoder and Encoder"
   ]
  },
  {
   "cell_type": "code",
   "execution_count": 10,
   "metadata": {},
   "outputs": [],
   "source": [
    "# non-linear encoder (quantiser) - reduce the dynamic range of audio signal \n",
    "def mu_encoder(input,mu):\n",
    "    mu = torch.FloatTensor([mu])\n",
    "    x_mu = torch.sign(input) * torch.log1p(1 + (mu * torch.abs(input))) / torch.log1p(1 + mu)\n",
    "    x_mu = ((x_mu + 1) / 2 * mu)\n",
    "    return x_mu\n",
    "\n",
    "def mu_decoder(y,mu):\n",
    "    mu = torch.FloatTensor([mu])\n",
    "    output = ((y / mu)*2)-1\n",
    "    output = torch.sign(output) * ((mu + 1)**torch.abs(output) - 1) / mu\n",
    "    return output"
   ]
  },
  {
   "cell_type": "markdown",
   "metadata": {},
   "source": [
    "## Data Plotting"
   ]
  },
  {
   "cell_type": "code",
   "execution_count": 11,
   "metadata": {},
   "outputs": [
    {
     "name": "stdout",
     "output_type": "stream",
     "text": [
      "\n",
      "( 0  ,.,.) = \n",
      "  0.0000  0.0118  0.0196  ...  -0.0196 -0.0118 -0.0039\n",
      "[torch.FloatTensor of size 1x1x4000]\n",
      "\n"
     ]
    },
    {
     "data": {
      "image/png": "[encoded data removed]",
      "text/plain": [
       "<matplotlib.figure.Figure at 0x11441a9e8>"
      ]
     },
     "metadata": {},
     "output_type": "display_data"
    },
    {
     "data": {
      "image/png": "[encoded data removed]",
      "text/plain": [
       "<matplotlib.figure.Figure at 0x117989f98>"
      ]
     },
     "metadata": {},
     "output_type": "display_data"
    },
    {
     "data": {
      "image/png": "[encoded data removed]",
      "text/plain": [
       "<matplotlib.figure.Figure at 0x1179ad748>"
      ]
     },
     "metadata": {},
     "output_type": "display_data"
    }
   ],
   "source": [
    "x = next(g)\n",
    "plt.figure(figsize=[8,6])\n",
    "plt.plot(torch.autograd.Variable(x).cpu().data.numpy()[0][0],'.', ms=3)\n",
    "# print(x)\n",
    "temp = mu_encoder(x,255)\n",
    "plt.figure(figsize=[8,6]) \n",
    "plt.plot(torch.autograd.Variable(temp).cpu().data.numpy()[0][0],'.', ms=3)\n",
    "# print(temp)\n",
    "\n",
    "temp = mu_decoder(temp,255)\n",
    "# print(torch.sign(torch.FloatingTensor([0]) * (1/255) * (((1+255)**torch.abs(0))-1))\n",
    "plt.figure(figsize=[8,6])\n",
    "plt.plot(torch.autograd.Variable(temp).cpu().data.numpy()[0][0],'.', ms=3)\n",
    "print(temp)"
   ]
  },
  {
   "cell_type": "markdown",
   "metadata": {},
   "source": [
    "## Epoch & Batch iteration"
   ]
  },
  {
   "cell_type": "code",
   "execution_count": 84,
   "metadata": {},
   "outputs": [
    {
     "name": "stdout",
     "output_type": "stream",
     "text": [
      "Variable containing:\n",
      " 159.3712\n",
      " 168.6933\n",
      " 175.3055\n",
      "    ⋮    \n",
      "  86.3067\n",
      "  95.6288\n",
      " 111.5737\n",
      "[torch.FloatTensor of size 3999]\n",
      "\n",
      "Variable containing:\n",
      "-0.7512 -0.7512 -0.7512  ...  -0.7512 -0.7512 -0.7512\n",
      "[torch.FloatTensor of size 1x3999]\n",
      "\n"
     ]
    },
    {
     "ename": "RuntimeError",
     "evalue": "Assertion `THIndexTensor_(size)(target, 0) == batch_size' failed.  at /Users/soumith/minicondabuild3/conda-bld/pytorch_1512381214802/work/torch/lib/THNN/generic/ClassNLLCriterion.c:79",
     "output_type": "error",
     "traceback": [
      "\u001b[0;31m---------------------------------------------------------------------------\u001b[0m",
      "\u001b[0;31mRuntimeError\u001b[0m                              Traceback (most recent call last)",
      "\u001b[0;32m<ipython-input-84-380c8e45a7b0>\u001b[0m in \u001b[0;36m<module>\u001b[0;34m()\u001b[0m\n\u001b[1;32m     24\u001b[0m \u001b[0;31m#         print(torch.squeeze(logits))\u001b[0m\u001b[0;34m\u001b[0m\u001b[0;34m\u001b[0m\u001b[0m\n\u001b[1;32m     25\u001b[0m \u001b[0;31m#         print(torch.squeeze(target))\u001b[0m\u001b[0;34m\u001b[0m\u001b[0;34m\u001b[0m\u001b[0m\n\u001b[0;32m---> 26\u001b[0;31m         \u001b[0mloss\u001b[0m \u001b[0;34m=\u001b[0m \u001b[0mloss\u001b[0m \u001b[0;34m+\u001b[0m \u001b[0mnn\u001b[0m\u001b[0;34m.\u001b[0m\u001b[0mfunctional\u001b[0m\u001b[0;34m.\u001b[0m\u001b[0mcross_entropy\u001b[0m\u001b[0;34m(\u001b[0m\u001b[0mlogits\u001b[0m\u001b[0;34m,\u001b[0m \u001b[0mtarget\u001b[0m\u001b[0;34m.\u001b[0m\u001b[0mtype\u001b[0m\u001b[0;34m(\u001b[0m\u001b[0mtorch\u001b[0m\u001b[0;34m.\u001b[0m\u001b[0mLongTensor\u001b[0m\u001b[0;34m)\u001b[0m\u001b[0;34m)\u001b[0m\u001b[0;34m\u001b[0m\u001b[0m\n\u001b[0m\u001b[1;32m     27\u001b[0m         \u001b[0mprint\u001b[0m\u001b[0;34m(\u001b[0m\u001b[0;34m\"Batch \"\u001b[0m \u001b[0;34m+\u001b[0m \u001b[0mstr\u001b[0m\u001b[0;34m(\u001b[0m\u001b[0mind\u001b[0m\u001b[0;34m)\u001b[0m \u001b[0;34m+\u001b[0m \u001b[0;34m\" done\"\u001b[0m\u001b[0;34m)\u001b[0m\u001b[0;34m\u001b[0m\u001b[0m\n\u001b[1;32m     28\u001b[0m     \u001b[0mloss\u001b[0m \u001b[0;34m=\u001b[0m \u001b[0mloss\u001b[0m\u001b[0;34m/\u001b[0m\u001b[0mbatch_size\u001b[0m\u001b[0;34m\u001b[0m\u001b[0m\n",
      "\u001b[0;32m~/anaconda3/lib/python3.6/site-packages/torch/nn/functional.py\u001b[0m in \u001b[0;36mcross_entropy\u001b[0;34m(input, target, weight, size_average, ignore_index, reduce)\u001b[0m\n\u001b[1;32m   1138\u001b[0m         \u001b[0;34m>>\u001b[0m\u001b[0;34m>\u001b[0m \u001b[0mloss\u001b[0m\u001b[0;34m.\u001b[0m\u001b[0mbackward\u001b[0m\u001b[0;34m(\u001b[0m\u001b[0;34m)\u001b[0m\u001b[0;34m\u001b[0m\u001b[0m\n\u001b[1;32m   1139\u001b[0m     \"\"\"\n\u001b[0;32m-> 1140\u001b[0;31m     \u001b[0;32mreturn\u001b[0m \u001b[0mnll_loss\u001b[0m\u001b[0;34m(\u001b[0m\u001b[0mlog_softmax\u001b[0m\u001b[0;34m(\u001b[0m\u001b[0minput\u001b[0m\u001b[0;34m,\u001b[0m \u001b[0;36m1\u001b[0m\u001b[0;34m)\u001b[0m\u001b[0;34m,\u001b[0m \u001b[0mtarget\u001b[0m\u001b[0;34m,\u001b[0m \u001b[0mweight\u001b[0m\u001b[0;34m,\u001b[0m \u001b[0msize_average\u001b[0m\u001b[0;34m,\u001b[0m \u001b[0mignore_index\u001b[0m\u001b[0;34m,\u001b[0m \u001b[0mreduce\u001b[0m\u001b[0;34m)\u001b[0m\u001b[0;34m\u001b[0m\u001b[0m\n\u001b[0m\u001b[1;32m   1141\u001b[0m \u001b[0;34m\u001b[0m\u001b[0m\n\u001b[1;32m   1142\u001b[0m \u001b[0;34m\u001b[0m\u001b[0m\n",
      "\u001b[0;32m~/anaconda3/lib/python3.6/site-packages/torch/nn/functional.py\u001b[0m in \u001b[0;36mnll_loss\u001b[0;34m(input, target, weight, size_average, ignore_index, reduce)\u001b[0m\n\u001b[1;32m   1047\u001b[0m         \u001b[0mweight\u001b[0m \u001b[0;34m=\u001b[0m \u001b[0mVariable\u001b[0m\u001b[0;34m(\u001b[0m\u001b[0mweight\u001b[0m\u001b[0;34m)\u001b[0m\u001b[0;34m\u001b[0m\u001b[0m\n\u001b[1;32m   1048\u001b[0m     \u001b[0;32mif\u001b[0m \u001b[0mdim\u001b[0m \u001b[0;34m==\u001b[0m \u001b[0;36m2\u001b[0m\u001b[0;34m:\u001b[0m\u001b[0;34m\u001b[0m\u001b[0m\n\u001b[0;32m-> 1049\u001b[0;31m         \u001b[0;32mreturn\u001b[0m \u001b[0mtorch\u001b[0m\u001b[0;34m.\u001b[0m\u001b[0m_C\u001b[0m\u001b[0;34m.\u001b[0m\u001b[0m_nn\u001b[0m\u001b[0;34m.\u001b[0m\u001b[0mnll_loss\u001b[0m\u001b[0;34m(\u001b[0m\u001b[0minput\u001b[0m\u001b[0;34m,\u001b[0m \u001b[0mtarget\u001b[0m\u001b[0;34m,\u001b[0m \u001b[0mweight\u001b[0m\u001b[0;34m,\u001b[0m \u001b[0msize_average\u001b[0m\u001b[0;34m,\u001b[0m \u001b[0mignore_index\u001b[0m\u001b[0;34m,\u001b[0m \u001b[0mreduce\u001b[0m\u001b[0;34m)\u001b[0m\u001b[0;34m\u001b[0m\u001b[0m\n\u001b[0m\u001b[1;32m   1050\u001b[0m     \u001b[0;32melif\u001b[0m \u001b[0mdim\u001b[0m \u001b[0;34m==\u001b[0m \u001b[0;36m4\u001b[0m\u001b[0;34m:\u001b[0m\u001b[0;34m\u001b[0m\u001b[0m\n\u001b[1;32m   1051\u001b[0m         \u001b[0;32mreturn\u001b[0m \u001b[0mtorch\u001b[0m\u001b[0;34m.\u001b[0m\u001b[0m_C\u001b[0m\u001b[0;34m.\u001b[0m\u001b[0m_nn\u001b[0m\u001b[0;34m.\u001b[0m\u001b[0mnll_loss2d\u001b[0m\u001b[0;34m(\u001b[0m\u001b[0minput\u001b[0m\u001b[0;34m,\u001b[0m \u001b[0mtarget\u001b[0m\u001b[0;34m,\u001b[0m \u001b[0mweight\u001b[0m\u001b[0;34m,\u001b[0m \u001b[0msize_average\u001b[0m\u001b[0;34m,\u001b[0m \u001b[0mignore_index\u001b[0m\u001b[0;34m,\u001b[0m \u001b[0mreduce\u001b[0m\u001b[0;34m)\u001b[0m\u001b[0;34m\u001b[0m\u001b[0m\n",
      "\u001b[0;31mRuntimeError\u001b[0m: Assertion `THIndexTensor_(size)(target, 0) == batch_size' failed.  at /Users/soumith/minicondabuild3/conda-bld/pytorch_1512381214802/work/torch/lib/THNN/generic/ClassNLLCriterion.c:79"
     ]
    }
   ],
   "source": [
    "wNet = WaveNet(10,2,6)\n",
    "# test = wNet(torch.Tensor(1,1,5000))\n",
    "# print(test)\n",
    "optimizer = optim.Adam(wNet.parameters(),lr=0.01)\n",
    "\n",
    "batch_size = 16\n",
    "loss_save = []\n",
    "max_epoch = 200\n",
    "\n",
    "for epoch in range(max_epoch):\n",
    "    optimizer.zero_grad()\n",
    "    loss = 0\n",
    "    for ind in range(batch_size):\n",
    "        batch = next(g)\n",
    "        batch = torch.autograd.Variable(mu_encoder(batch,255).type(torch.FloatTensor))\n",
    "        x = torch.unsqueeze(batch[0][0][:-1],0)\n",
    "        x = torch.unsqueeze(x,0)\n",
    "        logits = torch.unsqueeze(torch.squeeze(wNet(x)),0)\n",
    "#         sz = logits.size(2)\n",
    "#         target = torch.unsqueeze((torch.unsqueeze(batch[0][0][1:],0)),0)\n",
    "        target = (batch[0][0][1:])\n",
    "        print(target)\n",
    "        print(logits)\n",
    "#         print(torch.squeeze(logits))\n",
    "#         print(torch.squeeze(target))\n",
    "        loss = loss + nn.functional.cross_entropy(logits, target.type(torch.LongTensor))\n",
    "        print(\"Batch \" + str(ind) + \" done\")\n",
    "    loss = loss/batch_size\n",
    "    loss.backward()\n",
    "    optimizer.step()\n",
    "    loss_save.append(loss.data[0])\n",
    "    \n",
    "    # monitor progress\n",
    "    if epoch%1 == 0:\n",
    "        print('epoch {}, loss {}'.format(epoch, loss.data[0]))\n",
    "        batch = next(g)\n",
    "        batch = Variable(mu_encoder(batch).type(torch.LongTensor))\n",
    "        x = batch[0][0][:-1]\n",
    "        logits = net(x)\n",
    "        print(logits)\n",
    "        _, i = logits.max(dim=1)\n",
    "        plt.figure(figsize=[16,4])\n",
    "        plt.plot(i.data.tolist())\n",
    "        plt.plot(x.data.tolist(),'.',ms=1)\n",
    "        plt.title('epoch {}'.format(epoch))\n",
    "        plt.tight_layout()\n",
    "        plt.show()"
   ]
  },
  {
   "cell_type": "code",
   "execution_count": 76,
   "metadata": {},
   "outputs": [
    {
     "name": "stdout",
     "output_type": "stream",
     "text": [
      "Variable containing:\n",
      "-1.0294  0.2315  0.8458  1.7153 -0.2792\n",
      "-2.4326  1.6749 -0.5905 -0.1686  0.2985\n",
      " 0.0347  1.2973 -0.7139 -0.5760 -0.4818\n",
      "[torch.FloatTensor of size 3x5]\n",
      "\n",
      "Variable containing:\n",
      " 1\n",
      " 0\n",
      " 1\n",
      "[torch.LongTensor of size 3]\n",
      "\n"
     ]
    }
   ],
   "source": [
    "input = torch.autograd.Variable(torch.randn(3, 5), requires_grad=True)\n",
    "target = torch.autograd.Variable(torch.LongTensor(3).random_(5))\n",
    "\n",
    "print(input)\n",
    "print(target)"
   ]
  },
  {
   "cell_type": "code",
   "execution_count": null,
   "metadata": {
    "collapsed": true
   },
   "outputs": [],
   "source": []
  }
 ],
 "metadata": {
  "kernelspec": {
   "display_name": "Python 3",
   "language": "python",
   "name": "python3"
  },
  "language_info": {
   "codemirror_mode": {
    "name": "ipython",
    "version": 3
   },
   "file_extension": ".py",
   "mimetype": "text/x-python",
   "name": "python",
   "nbconvert_exporter": "python",
   "pygments_lexer": "ipython3",
   "version": "3.6.3"
  }
 },
 "nbformat": 4,
 "nbformat_minor": 2
}
